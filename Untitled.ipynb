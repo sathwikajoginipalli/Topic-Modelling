{
 "cells": [
  {
   "cell_type": "code",
   "execution_count": 1,
   "metadata": {},
   "outputs": [
    {
     "name": "stderr",
     "output_type": "stream",
     "text": [
      "[nltk_data] Downloading package punkt to\n",
      "[nltk_data]     C:\\Users\\sathw\\AppData\\Roaming\\nltk_data...\n",
      "[nltk_data]   Package punkt is already up-to-date!\n"
     ]
    }
   ],
   "source": [
    "from nltk.corpus import stopwords\n",
    "import re\n",
    "import numpy as np\n",
    "import pandas as pd\n",
    "from pprint import pprint\n",
    "import nltk\n",
    "nltk.download('punkt')\n",
    "\n",
    "# Gensim\n",
    "import gensim\n",
    "import gensim.corpora as corpora\n",
    "from gensim.utils import simple_preprocess\n",
    "from gensim.models import CoherenceModel\n",
    "\n",
    "# spacy for lemmatization\n",
    "import spacy\n",
    "\n",
    "# Plotting tools\n",
    "import pyLDAvis\n",
    "import pyLDAvis.gensim  # don't skip this\n",
    "import matplotlib.pyplot as plt\n",
    "%matplotlib inline\n",
    "\n",
    "# Enable logging for gensim - optional\n",
    "import logging\n",
    "logging.basicConfig(format='%(asctime)s : %(levelname)s : %(message)s', level=logging.ERROR)\n",
    "\n",
    "import warnings\n",
    "warnings.filterwarnings(\"ignore\",category=DeprecationWarning)"
   ]
  },
  {
   "cell_type": "code",
   "execution_count": 2,
   "metadata": {},
   "outputs": [],
   "source": [
    "from nltk.tokenize import word_tokenize, sent_tokenize\n"
   ]
  },
  {
   "cell_type": "code",
   "execution_count": null,
   "metadata": {},
   "outputs": [],
   "source": [
    "def read_file():\n",
    "    # this function reads the individual doc files and stores the text in 'data'\n",
    "    \n",
    "    data = [] #this contains [data_1 data_2 .... data_5]\n",
    "    \n",
    "#     input_file = open(\"bigtext_exam.txt\", \"r\", encoding='utf-8')\n",
    "#     data.append([input_file.read()])\n",
    "#     input_file.close()\n",
    "\n",
    "    input_file = open(\"data_1.txt\", \"r\", encoding='utf-8')\n",
    "    data_1 = input_file.read()\n",
    "    data.append(data_1)\n",
    "    input_file.close()\n",
    "\n",
    "    input_file = open(\"data_2.txt\", \"r\", encoding='utf-8')\n",
    "    data_2 = input_file.read()\n",
    "    data.append(data_2)\n",
    "    input_file.close()\n",
    "\n",
    "    input_file = open(\"data_3.txt\", \"r\", encoding='utf-8')\n",
    "    data_3 = input_file.read()\n",
    "    data.append(data_3)\n",
    "    input_file.close()\n",
    "\n",
    "    input_file = open(\"data_4.txt\", \"r\", encoding='utf-8')\n",
    "    data_4 = input_file.read()\n",
    "    data.append(data_4)\n",
    "    input_file.close()\n",
    "\n",
    "    input_file = open(\"data_5.txt\", \"r\", encoding='utf-8')\n",
    "#     input_file = open(\"C:\\\\Users\\\\sathw\\\\Downloads\\\\data_5.txt\", \"r\",encoding='utf-8')\n",
    "    data_5 = input_file.read()\n",
    "    data.append(data_5)\n",
    "    input_file.close()\n",
    "    \n",
    "    input_file = open(\"data_6.txt\", \"r\", encoding='utf-8')\n",
    "#     input_file = open(\"C:\\\\Users\\\\sathw\\\\Downloads\\\\data_5.txt\", \"r\",encoding='utf-8')\n",
    "    data_6 = input_file.read()\n",
    "    data.append(data_6)\n",
    "    input_file.close()\n",
    "    \n",
    "    return data"
   ]
  }
 ],
 "metadata": {
  "kernelspec": {
   "display_name": "Python 3",
   "language": "python",
   "name": "python3"
  },
  "language_info": {
   "codemirror_mode": {
    "name": "ipython",
    "version": 3
   },
   "file_extension": ".py",
   "mimetype": "text/x-python",
   "name": "python",
   "nbconvert_exporter": "python",
   "pygments_lexer": "ipython3",
   "version": "3.7.4"
  }
 },
 "nbformat": 4,
 "nbformat_minor": 2
}
